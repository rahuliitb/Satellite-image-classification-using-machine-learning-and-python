{
 "cells": [
  {
   "cell_type": "markdown",
   "metadata": {},
   "source": [
    "## Satellite Image Classification using Neural Networks: Part2-Model Building"
   ]
  },
  {
   "cell_type": "markdown",
   "metadata": {},
   "source": [
    "### Importing libraries"
   ]
  },
  {
   "cell_type": "code",
   "execution_count": 1,
   "metadata": {},
   "outputs": [
    {
     "name": "stderr",
     "output_type": "stream",
     "text": [
      "Using TensorFlow backend.\n"
     ]
    }
   ],
   "source": [
    "import warnings\n",
    "warnings.filterwarnings('ignore')\n",
    "import numpy as np\n",
    "import pandas as pd\n",
    "from sklearn.preprocessing import StandardScaler \n",
    "import keras\n",
    "from keras.models import Sequential\n",
    "from keras.layers import Dense, Dropout, BatchNormalization, Activation\n",
    "from keras.callbacks import EarlyStopping, ModelCheckpoint, TensorBoard\n",
    "from time import time\n",
    "from mlxtend.evaluate import confusion_matrix\n",
    "from mlxtend.plotting import plot_confusion_matrix\n",
    "import matplotlib.pyplot as plt\n",
    "import seaborn as sns"
   ]
  },
  {
   "cell_type": "code",
   "execution_count": null,
   "metadata": {},
   "outputs": [],
   "source": []
  },
  {
   "cell_type": "code",
   "execution_count": 2,
   "metadata": {},
   "outputs": [],
   "source": [
    "def trian_data_read(data_path):\n",
    "    df=pd.read_csv(data_path, index_col=[0])\n",
    "    return df\n",
    "\n",
    "def test_data_read(data_path):\n",
    "    df=pd.read_csv(data_path, header=None)\n",
    "    return df\n",
    "\n",
    "       "
   ]
  },
  {
   "cell_type": "markdown",
   "metadata": {},
   "source": [
    "### Reading train data"
   ]
  },
  {
   "cell_type": "code",
   "execution_count": 3,
   "metadata": {},
   "outputs": [
    {
     "name": "stdout",
     "output_type": "stream",
     "text": [
      "Training data shape:  (400000, 18)\n",
      "Training label shape:  (400000, 4)\n"
     ]
    }
   ],
   "source": [
    "train_data=trian_data_read(data_path=\"train_feature.csv\")\n",
    "train_label=test_data_read(data_path=\"deepsat-sat4/y_train_sat4.csv\")\n",
    "print(\"Training data shape: \",train_data.shape)\n",
    "print(\"Training label shape: \",train_label.shape)"
   ]
  },
  {
   "cell_type": "code",
   "execution_count": 4,
   "metadata": {},
   "outputs": [
    {
     "data": {
      "text/html": [
       "<div>\n",
       "<style scoped>\n",
       "    .dataframe tbody tr th:only-of-type {\n",
       "        vertical-align: middle;\n",
       "    }\n",
       "\n",
       "    .dataframe tbody tr th {\n",
       "        vertical-align: top;\n",
       "    }\n",
       "\n",
       "    .dataframe thead th {\n",
       "        text-align: right;\n",
       "    }\n",
       "</style>\n",
       "<table border=\"1\" class=\"dataframe\">\n",
       "  <thead>\n",
       "    <tr style=\"text-align: right;\">\n",
       "      <th></th>\n",
       "      <th>feature0</th>\n",
       "      <th>feature1</th>\n",
       "      <th>feature2</th>\n",
       "      <th>feature3</th>\n",
       "      <th>feature4</th>\n",
       "      <th>feature5</th>\n",
       "      <th>feature6</th>\n",
       "      <th>feature7</th>\n",
       "      <th>feature8</th>\n",
       "      <th>feature9</th>\n",
       "      <th>feature10</th>\n",
       "      <th>feature11</th>\n",
       "      <th>feature12</th>\n",
       "      <th>feature13</th>\n",
       "      <th>feature14</th>\n",
       "      <th>feature15</th>\n",
       "      <th>feature16</th>\n",
       "      <th>feature17</th>\n",
       "    </tr>\n",
       "  </thead>\n",
       "  <tbody>\n",
       "    <tr>\n",
       "      <th>0</th>\n",
       "      <td>0.000972</td>\n",
       "      <td>641.150882</td>\n",
       "      <td>0.306289</td>\n",
       "      <td>461.331689</td>\n",
       "      <td>0.090310</td>\n",
       "      <td>215.859026</td>\n",
       "      <td>1204.175873</td>\n",
       "      <td>6.631558</td>\n",
       "      <td>10.440948</td>\n",
       "      <td>0.000136</td>\n",
       "      <td>5.311662</td>\n",
       "      <td>-0.222073</td>\n",
       "      <td>0.961082</td>\n",
       "      <td>0.302352</td>\n",
       "      <td>0.099163</td>\n",
       "      <td>5.290839e-08</td>\n",
       "      <td>0.171526</td>\n",
       "      <td>0.103628</td>\n",
       "    </tr>\n",
       "    <tr>\n",
       "      <th>1</th>\n",
       "      <td>0.000776</td>\n",
       "      <td>385.099375</td>\n",
       "      <td>0.494946</td>\n",
       "      <td>397.449769</td>\n",
       "      <td>0.062843</td>\n",
       "      <td>291.636648</td>\n",
       "      <td>1204.699702</td>\n",
       "      <td>6.941100</td>\n",
       "      <td>10.633986</td>\n",
       "      <td>0.000195</td>\n",
       "      <td>4.891717</td>\n",
       "      <td>-0.294508</td>\n",
       "      <td>0.986615</td>\n",
       "      <td>0.094648</td>\n",
       "      <td>0.232414</td>\n",
       "      <td>7.760388e-08</td>\n",
       "      <td>0.063343</td>\n",
       "      <td>0.096983</td>\n",
       "    </tr>\n",
       "    <tr>\n",
       "      <th>2</th>\n",
       "      <td>0.000501</td>\n",
       "      <td>683.379290</td>\n",
       "      <td>0.628080</td>\n",
       "      <td>919.231590</td>\n",
       "      <td>0.062133</td>\n",
       "      <td>165.899621</td>\n",
       "      <td>2993.547070</td>\n",
       "      <td>7.497042</td>\n",
       "      <td>11.166380</td>\n",
       "      <td>0.000129</td>\n",
       "      <td>5.631485</td>\n",
       "      <td>-0.323338</td>\n",
       "      <td>0.992616</td>\n",
       "      <td>0.363837</td>\n",
       "      <td>0.182992</td>\n",
       "      <td>4.199208e-08</td>\n",
       "      <td>0.202709</td>\n",
       "      <td>0.122439</td>\n",
       "    </tr>\n",
       "    <tr>\n",
       "      <th>3</th>\n",
       "      <td>0.003203</td>\n",
       "      <td>543.981199</td>\n",
       "      <td>0.718768</td>\n",
       "      <td>968.697183</td>\n",
       "      <td>0.182567</td>\n",
       "      <td>213.813450</td>\n",
       "      <td>3330.807532</td>\n",
       "      <td>6.813396</td>\n",
       "      <td>9.529273</td>\n",
       "      <td>0.000323</td>\n",
       "      <td>4.607932</td>\n",
       "      <td>-0.376704</td>\n",
       "      <td>0.993467</td>\n",
       "      <td>0.183581</td>\n",
       "      <td>0.073847</td>\n",
       "      <td>5.167177e-08</td>\n",
       "      <td>0.102311</td>\n",
       "      <td>0.069599</td>\n",
       "    </tr>\n",
       "    <tr>\n",
       "      <th>4</th>\n",
       "      <td>0.000896</td>\n",
       "      <td>239.167945</td>\n",
       "      <td>0.427079</td>\n",
       "      <td>209.522910</td>\n",
       "      <td>0.086702</td>\n",
       "      <td>202.101768</td>\n",
       "      <td>598.923696</td>\n",
       "      <td>6.577780</td>\n",
       "      <td>10.507105</td>\n",
       "      <td>0.000214</td>\n",
       "      <td>4.936963</td>\n",
       "      <td>-0.196489</td>\n",
       "      <td>0.946186</td>\n",
       "      <td>0.133382</td>\n",
       "      <td>0.133871</td>\n",
       "      <td>5.034725e-08</td>\n",
       "      <td>0.186360</td>\n",
       "      <td>0.133182</td>\n",
       "    </tr>\n",
       "  </tbody>\n",
       "</table>\n",
       "</div>"
      ],
      "text/plain": [
       "   feature0    feature1  feature2    feature3  feature4    feature5  \\\n",
       "0  0.000972  641.150882  0.306289  461.331689  0.090310  215.859026   \n",
       "1  0.000776  385.099375  0.494946  397.449769  0.062843  291.636648   \n",
       "2  0.000501  683.379290  0.628080  919.231590  0.062133  165.899621   \n",
       "3  0.003203  543.981199  0.718768  968.697183  0.182567  213.813450   \n",
       "4  0.000896  239.167945  0.427079  209.522910  0.086702  202.101768   \n",
       "\n",
       "      feature6  feature7   feature8  feature9  feature10  feature11  \\\n",
       "0  1204.175873  6.631558  10.440948  0.000136   5.311662  -0.222073   \n",
       "1  1204.699702  6.941100  10.633986  0.000195   4.891717  -0.294508   \n",
       "2  2993.547070  7.497042  11.166380  0.000129   5.631485  -0.323338   \n",
       "3  3330.807532  6.813396   9.529273  0.000323   4.607932  -0.376704   \n",
       "4   598.923696  6.577780  10.507105  0.000214   4.936963  -0.196489   \n",
       "\n",
       "   feature12  feature13  feature14     feature15  feature16  feature17  \n",
       "0   0.961082   0.302352   0.099163  5.290839e-08   0.171526   0.103628  \n",
       "1   0.986615   0.094648   0.232414  7.760388e-08   0.063343   0.096983  \n",
       "2   0.992616   0.363837   0.182992  4.199208e-08   0.202709   0.122439  \n",
       "3   0.993467   0.183581   0.073847  5.167177e-08   0.102311   0.069599  \n",
       "4   0.946186   0.133382   0.133871  5.034725e-08   0.186360   0.133182  "
      ]
     },
     "execution_count": 4,
     "metadata": {},
     "output_type": "execute_result"
    }
   ],
   "source": [
    "train_data.head()"
   ]
  },
  {
   "cell_type": "code",
   "execution_count": 5,
   "metadata": {},
   "outputs": [
    {
     "data": {
      "text/html": [
       "<div>\n",
       "<style scoped>\n",
       "    .dataframe tbody tr th:only-of-type {\n",
       "        vertical-align: middle;\n",
       "    }\n",
       "\n",
       "    .dataframe tbody tr th {\n",
       "        vertical-align: top;\n",
       "    }\n",
       "\n",
       "    .dataframe thead th {\n",
       "        text-align: right;\n",
       "    }\n",
       "</style>\n",
       "<table border=\"1\" class=\"dataframe\">\n",
       "  <thead>\n",
       "    <tr style=\"text-align: right;\">\n",
       "      <th></th>\n",
       "      <th>0</th>\n",
       "      <th>1</th>\n",
       "      <th>2</th>\n",
       "      <th>3</th>\n",
       "    </tr>\n",
       "  </thead>\n",
       "  <tbody>\n",
       "    <tr>\n",
       "      <th>0</th>\n",
       "      <td>0</td>\n",
       "      <td>0</td>\n",
       "      <td>0</td>\n",
       "      <td>1</td>\n",
       "    </tr>\n",
       "    <tr>\n",
       "      <th>1</th>\n",
       "      <td>1</td>\n",
       "      <td>0</td>\n",
       "      <td>0</td>\n",
       "      <td>0</td>\n",
       "    </tr>\n",
       "    <tr>\n",
       "      <th>2</th>\n",
       "      <td>0</td>\n",
       "      <td>1</td>\n",
       "      <td>0</td>\n",
       "      <td>0</td>\n",
       "    </tr>\n",
       "    <tr>\n",
       "      <th>3</th>\n",
       "      <td>0</td>\n",
       "      <td>0</td>\n",
       "      <td>0</td>\n",
       "      <td>1</td>\n",
       "    </tr>\n",
       "    <tr>\n",
       "      <th>4</th>\n",
       "      <td>0</td>\n",
       "      <td>0</td>\n",
       "      <td>1</td>\n",
       "      <td>0</td>\n",
       "    </tr>\n",
       "  </tbody>\n",
       "</table>\n",
       "</div>"
      ],
      "text/plain": [
       "   0  1  2  3\n",
       "0  0  0  0  1\n",
       "1  1  0  0  0\n",
       "2  0  1  0  0\n",
       "3  0  0  0  1\n",
       "4  0  0  1  0"
      ]
     },
     "execution_count": 5,
     "metadata": {},
     "output_type": "execute_result"
    }
   ],
   "source": [
    "train_label.head()"
   ]
  },
  {
   "cell_type": "markdown",
   "metadata": {},
   "source": [
    "### Reading test data"
   ]
  },
  {
   "cell_type": "code",
   "execution_count": 6,
   "metadata": {},
   "outputs": [
    {
     "name": "stdout",
     "output_type": "stream",
     "text": [
      "Test data shape:  (100000, 18)\n",
      "Test label shape:  (100000, 4)\n"
     ]
    }
   ],
   "source": [
    "test_data=trian_data_read(data_path=\"test_feature.csv\")\n",
    "test_label=test_data_read(data_path=\"deepsat-sat4/y_test_sat4.csv\")\n",
    "print(\"Test data shape: \",test_data.shape)\n",
    "print(\"Test label shape: \",test_label.shape)"
   ]
  },
  {
   "cell_type": "code",
   "execution_count": 7,
   "metadata": {},
   "outputs": [
    {
     "data": {
      "text/html": [
       "<div>\n",
       "<style scoped>\n",
       "    .dataframe tbody tr th:only-of-type {\n",
       "        vertical-align: middle;\n",
       "    }\n",
       "\n",
       "    .dataframe tbody tr th {\n",
       "        vertical-align: top;\n",
       "    }\n",
       "\n",
       "    .dataframe thead th {\n",
       "        text-align: right;\n",
       "    }\n",
       "</style>\n",
       "<table border=\"1\" class=\"dataframe\">\n",
       "  <thead>\n",
       "    <tr style=\"text-align: right;\">\n",
       "      <th></th>\n",
       "      <th>feature0</th>\n",
       "      <th>feature1</th>\n",
       "      <th>feature2</th>\n",
       "      <th>feature3</th>\n",
       "      <th>feature4</th>\n",
       "      <th>feature5</th>\n",
       "      <th>feature6</th>\n",
       "      <th>feature7</th>\n",
       "      <th>feature8</th>\n",
       "      <th>feature9</th>\n",
       "      <th>feature10</th>\n",
       "      <th>feature11</th>\n",
       "      <th>feature12</th>\n",
       "      <th>feature13</th>\n",
       "      <th>feature14</th>\n",
       "      <th>feature15</th>\n",
       "      <th>feature16</th>\n",
       "      <th>feature17</th>\n",
       "    </tr>\n",
       "  </thead>\n",
       "  <tbody>\n",
       "    <tr>\n",
       "      <th>0</th>\n",
       "      <td>0.000767</td>\n",
       "      <td>335.291138</td>\n",
       "      <td>0.376090</td>\n",
       "      <td>272.877332</td>\n",
       "      <td>0.068837</td>\n",
       "      <td>274.961012</td>\n",
       "      <td>756.218190</td>\n",
       "      <td>6.726062</td>\n",
       "      <td>10.672314</td>\n",
       "      <td>0.000157</td>\n",
       "      <td>5.130096</td>\n",
       "      <td>-0.215871</td>\n",
       "      <td>0.960871</td>\n",
       "      <td>0.075847</td>\n",
       "      <td>0.168096</td>\n",
       "      <td>7.052749e-08</td>\n",
       "      <td>0.146079</td>\n",
       "      <td>0.120556</td>\n",
       "    </tr>\n",
       "    <tr>\n",
       "      <th>1</th>\n",
       "      <td>0.001052</td>\n",
       "      <td>587.080323</td>\n",
       "      <td>0.309110</td>\n",
       "      <td>455.328749</td>\n",
       "      <td>0.044852</td>\n",
       "      <td>285.265382</td>\n",
       "      <td>1234.234673</td>\n",
       "      <td>6.767680</td>\n",
       "      <td>10.329559</td>\n",
       "      <td>0.000182</td>\n",
       "      <td>4.946849</td>\n",
       "      <td>-0.278713</td>\n",
       "      <td>0.979682</td>\n",
       "      <td>0.082069</td>\n",
       "      <td>0.311748</td>\n",
       "      <td>7.902225e-08</td>\n",
       "      <td>0.259992</td>\n",
       "      <td>0.224726</td>\n",
       "    </tr>\n",
       "    <tr>\n",
       "      <th>2</th>\n",
       "      <td>0.001129</td>\n",
       "      <td>1333.707078</td>\n",
       "      <td>0.829911</td>\n",
       "      <td>3924.339461</td>\n",
       "      <td>0.096924</td>\n",
       "      <td>326.812450</td>\n",
       "      <td>14363.650765</td>\n",
       "      <td>7.977212</td>\n",
       "      <td>10.616184</td>\n",
       "      <td>0.000107</td>\n",
       "      <td>5.749332</td>\n",
       "      <td>-0.441541</td>\n",
       "      <td>0.998714</td>\n",
       "      <td>0.357081</td>\n",
       "      <td>0.102150</td>\n",
       "      <td>7.869438e-08</td>\n",
       "      <td>0.098074</td>\n",
       "      <td>0.070147</td>\n",
       "    </tr>\n",
       "    <tr>\n",
       "      <th>3</th>\n",
       "      <td>0.001709</td>\n",
       "      <td>215.269519</td>\n",
       "      <td>0.154822</td>\n",
       "      <td>131.325949</td>\n",
       "      <td>0.129670</td>\n",
       "      <td>232.300939</td>\n",
       "      <td>310.034276</td>\n",
       "      <td>5.993647</td>\n",
       "      <td>9.659665</td>\n",
       "      <td>0.000311</td>\n",
       "      <td>4.617008</td>\n",
       "      <td>-0.178564</td>\n",
       "      <td>0.911160</td>\n",
       "      <td>0.183145</td>\n",
       "      <td>0.181026</td>\n",
       "      <td>5.768320e-08</td>\n",
       "      <td>0.275191</td>\n",
       "      <td>0.193047</td>\n",
       "    </tr>\n",
       "    <tr>\n",
       "      <th>4</th>\n",
       "      <td>0.002261</td>\n",
       "      <td>244.519064</td>\n",
       "      <td>0.045149</td>\n",
       "      <td>131.285288</td>\n",
       "      <td>0.115564</td>\n",
       "      <td>172.574604</td>\n",
       "      <td>280.622089</td>\n",
       "      <td>5.897293</td>\n",
       "      <td>9.615730</td>\n",
       "      <td>0.000314</td>\n",
       "      <td>4.844679</td>\n",
       "      <td>-0.155865</td>\n",
       "      <td>0.889380</td>\n",
       "      <td>0.189491</td>\n",
       "      <td>0.238340</td>\n",
       "      <td>4.386601e-08</td>\n",
       "      <td>0.414560</td>\n",
       "      <td>0.296843</td>\n",
       "    </tr>\n",
       "  </tbody>\n",
       "</table>\n",
       "</div>"
      ],
      "text/plain": [
       "   feature0     feature1  feature2     feature3  feature4    feature5  \\\n",
       "0  0.000767   335.291138  0.376090   272.877332  0.068837  274.961012   \n",
       "1  0.001052   587.080323  0.309110   455.328749  0.044852  285.265382   \n",
       "2  0.001129  1333.707078  0.829911  3924.339461  0.096924  326.812450   \n",
       "3  0.001709   215.269519  0.154822   131.325949  0.129670  232.300939   \n",
       "4  0.002261   244.519064  0.045149   131.285288  0.115564  172.574604   \n",
       "\n",
       "       feature6  feature7   feature8  feature9  feature10  feature11  \\\n",
       "0    756.218190  6.726062  10.672314  0.000157   5.130096  -0.215871   \n",
       "1   1234.234673  6.767680  10.329559  0.000182   4.946849  -0.278713   \n",
       "2  14363.650765  7.977212  10.616184  0.000107   5.749332  -0.441541   \n",
       "3    310.034276  5.993647   9.659665  0.000311   4.617008  -0.178564   \n",
       "4    280.622089  5.897293   9.615730  0.000314   4.844679  -0.155865   \n",
       "\n",
       "   feature12  feature13  feature14     feature15  feature16  feature17  \n",
       "0   0.960871   0.075847   0.168096  7.052749e-08   0.146079   0.120556  \n",
       "1   0.979682   0.082069   0.311748  7.902225e-08   0.259992   0.224726  \n",
       "2   0.998714   0.357081   0.102150  7.869438e-08   0.098074   0.070147  \n",
       "3   0.911160   0.183145   0.181026  5.768320e-08   0.275191   0.193047  \n",
       "4   0.889380   0.189491   0.238340  4.386601e-08   0.414560   0.296843  "
      ]
     },
     "execution_count": 7,
     "metadata": {},
     "output_type": "execute_result"
    }
   ],
   "source": [
    "test_data.head()"
   ]
  },
  {
   "cell_type": "code",
   "execution_count": 8,
   "metadata": {},
   "outputs": [
    {
     "data": {
      "text/html": [
       "<div>\n",
       "<style scoped>\n",
       "    .dataframe tbody tr th:only-of-type {\n",
       "        vertical-align: middle;\n",
       "    }\n",
       "\n",
       "    .dataframe tbody tr th {\n",
       "        vertical-align: top;\n",
       "    }\n",
       "\n",
       "    .dataframe thead th {\n",
       "        text-align: right;\n",
       "    }\n",
       "</style>\n",
       "<table border=\"1\" class=\"dataframe\">\n",
       "  <thead>\n",
       "    <tr style=\"text-align: right;\">\n",
       "      <th></th>\n",
       "      <th>0</th>\n",
       "      <th>1</th>\n",
       "      <th>2</th>\n",
       "      <th>3</th>\n",
       "    </tr>\n",
       "  </thead>\n",
       "  <tbody>\n",
       "    <tr>\n",
       "      <th>0</th>\n",
       "      <td>1</td>\n",
       "      <td>0</td>\n",
       "      <td>0</td>\n",
       "      <td>0</td>\n",
       "    </tr>\n",
       "    <tr>\n",
       "      <th>1</th>\n",
       "      <td>1</td>\n",
       "      <td>0</td>\n",
       "      <td>0</td>\n",
       "      <td>0</td>\n",
       "    </tr>\n",
       "    <tr>\n",
       "      <th>2</th>\n",
       "      <td>0</td>\n",
       "      <td>0</td>\n",
       "      <td>0</td>\n",
       "      <td>1</td>\n",
       "    </tr>\n",
       "    <tr>\n",
       "      <th>3</th>\n",
       "      <td>0</td>\n",
       "      <td>0</td>\n",
       "      <td>1</td>\n",
       "      <td>0</td>\n",
       "    </tr>\n",
       "    <tr>\n",
       "      <th>4</th>\n",
       "      <td>0</td>\n",
       "      <td>0</td>\n",
       "      <td>1</td>\n",
       "      <td>0</td>\n",
       "    </tr>\n",
       "  </tbody>\n",
       "</table>\n",
       "</div>"
      ],
      "text/plain": [
       "   0  1  2  3\n",
       "0  1  0  0  0\n",
       "1  1  0  0  0\n",
       "2  0  0  0  1\n",
       "3  0  0  1  0\n",
       "4  0  0  1  0"
      ]
     },
     "execution_count": 8,
     "metadata": {},
     "output_type": "execute_result"
    }
   ],
   "source": [
    "test_label.head()"
   ]
  },
  {
   "cell_type": "markdown",
   "metadata": {},
   "source": [
    "### Data standardization"
   ]
  },
  {
   "cell_type": "code",
   "execution_count": 9,
   "metadata": {},
   "outputs": [],
   "source": [
    "sc=StandardScaler()\n",
    "#fit the training data\n",
    "fit=sc.fit(train_data)"
   ]
  },
  {
   "cell_type": "code",
   "execution_count": 10,
   "metadata": {},
   "outputs": [],
   "source": [
    "##transform the train and test data\n",
    "train_data_stn=fit.transform(train_data)\n",
    "test_data_stn=fit.transform(test_data)"
   ]
  },
  {
   "cell_type": "code",
   "execution_count": null,
   "metadata": {},
   "outputs": [],
   "source": []
  },
  {
   "cell_type": "markdown",
   "metadata": {},
   "source": [
    "### Model Building"
   ]
  },
  {
   "cell_type": "code",
   "execution_count": 59,
   "metadata": {},
   "outputs": [],
   "source": [
    "model=Sequential()\n",
    "\n",
    "#layer1\n",
    "model.add(Dense(units=50,input_shape=(train_data_stn.shape[1],),use_bias=True))\n",
    "#model.add(BatchNormalization())\n",
    "model.add(Activation(\"relu\"))\n",
    "model.add(Dropout(0.2))\n",
    "\n",
    "#layer2\n",
    "model.add(Dense(units=50, use_bias=True))\n",
    "#model.add(BatchNormalization())\n",
    "model.add(Activation(\"relu\"))\n",
    "model.add(Dropout(0.2))\n",
    "\n",
    "#layer3\n",
    "model.add(Dense(units=4, activation=\"softmax\"))\n",
    "\n",
    "\n",
    "##ADD early stopping\n",
    "es = EarlyStopping(monitor='val_loss', mode='min', verbose=1, patience=5)\n",
    "mc = ModelCheckpoint('best_model.h5', monitor='val_accuracy', mode='max', verbose=1, save_best_only=True)\n",
    "tensorboard = TensorBoard(log_dir='logs/{}'.format(time()))\n",
    "#tensorboard=TensorBoard(log_dir='logs/{}'.format(time()))\n",
    "\n",
    "#compile the model\n",
    "model.compile(optimizer=\"adam\",loss=\"categorical_crossentropy\",metrics=[\"accuracy\"])\n",
    "\n"
   ]
  },
  {
   "cell_type": "markdown",
   "metadata": {},
   "source": [
    "### Model Training"
   ]
  },
  {
   "cell_type": "code",
   "execution_count": 60,
   "metadata": {
    "scrolled": true
   },
   "outputs": [
    {
     "name": "stdout",
     "output_type": "stream",
     "text": [
      "WARNING:tensorflow:From /home/rahul/anaconda3/lib/python3.7/site-packages/keras/backend/tensorflow_backend.py:422: The name tf.global_variables is deprecated. Please use tf.compat.v1.global_variables instead.\n",
      "\n",
      "Train on 320000 samples, validate on 80000 samples\n",
      "WARNING:tensorflow:From /home/rahul/anaconda3/lib/python3.7/site-packages/keras/callbacks/tensorboard_v1.py:200: The name tf.summary.merge_all is deprecated. Please use tf.compat.v1.summary.merge_all instead.\n",
      "\n",
      "WARNING:tensorflow:From /home/rahul/anaconda3/lib/python3.7/site-packages/keras/callbacks/tensorboard_v1.py:203: The name tf.summary.FileWriter is deprecated. Please use tf.compat.v1.summary.FileWriter instead.\n",
      "\n",
      "Epoch 1/500\n",
      "320000/320000 [==============================] - 4s 12us/step - loss: 0.1651 - accuracy: 0.9472 - val_loss: 0.0665 - val_accuracy: 0.9792\n",
      "\n",
      "Epoch 00001: val_accuracy improved from -inf to 0.97916, saving model to best_model.h5\n",
      "WARNING:tensorflow:From /home/rahul/anaconda3/lib/python3.7/site-packages/keras/callbacks/tensorboard_v1.py:343: The name tf.Summary is deprecated. Please use tf.compat.v1.Summary instead.\n",
      "\n",
      "Epoch 2/500\n",
      "320000/320000 [==============================] - 3s 11us/step - loss: 0.0797 - accuracy: 0.9751 - val_loss: 0.0500 - val_accuracy: 0.9840\n",
      "\n",
      "Epoch 00002: val_accuracy improved from 0.97916 to 0.98403, saving model to best_model.h5\n",
      "Epoch 3/500\n",
      "320000/320000 [==============================] - 3s 10us/step - loss: 0.0646 - accuracy: 0.9797 - val_loss: 0.0417 - val_accuracy: 0.9864\n",
      "\n",
      "Epoch 00003: val_accuracy improved from 0.98403 to 0.98640, saving model to best_model.h5\n",
      "Epoch 4/500\n",
      "320000/320000 [==============================] - 3s 10us/step - loss: 0.0560 - accuracy: 0.9820 - val_loss: 0.0370 - val_accuracy: 0.9884\n",
      "\n",
      "Epoch 00004: val_accuracy improved from 0.98640 to 0.98843, saving model to best_model.h5\n",
      "Epoch 5/500\n",
      "320000/320000 [==============================] - 3s 10us/step - loss: 0.0519 - accuracy: 0.9835 - val_loss: 0.0341 - val_accuracy: 0.9892\n",
      "\n",
      "Epoch 00005: val_accuracy improved from 0.98843 to 0.98921, saving model to best_model.h5\n",
      "Epoch 6/500\n",
      "320000/320000 [==============================] - 3s 10us/step - loss: 0.0487 - accuracy: 0.9847 - val_loss: 0.0316 - val_accuracy: 0.9898\n",
      "\n",
      "Epoch 00006: val_accuracy improved from 0.98921 to 0.98978, saving model to best_model.h5\n",
      "Epoch 7/500\n",
      "320000/320000 [==============================] - 3s 10us/step - loss: 0.0469 - accuracy: 0.9850 - val_loss: 0.0297 - val_accuracy: 0.9905\n",
      "\n",
      "Epoch 00007: val_accuracy improved from 0.98978 to 0.99045, saving model to best_model.h5\n",
      "Epoch 8/500\n",
      "320000/320000 [==============================] - 3s 10us/step - loss: 0.0442 - accuracy: 0.9861 - val_loss: 0.0288 - val_accuracy: 0.9909\n",
      "\n",
      "Epoch 00008: val_accuracy improved from 0.99045 to 0.99093, saving model to best_model.h5\n",
      "Epoch 9/500\n",
      "320000/320000 [==============================] - 3s 10us/step - loss: 0.0438 - accuracy: 0.9862 - val_loss: 0.0273 - val_accuracy: 0.9911\n",
      "\n",
      "Epoch 00009: val_accuracy improved from 0.99093 to 0.99114, saving model to best_model.h5\n",
      "Epoch 10/500\n",
      "320000/320000 [==============================] - 3s 10us/step - loss: 0.0420 - accuracy: 0.9868 - val_loss: 0.0268 - val_accuracy: 0.9915\n",
      "\n",
      "Epoch 00010: val_accuracy improved from 0.99114 to 0.99151, saving model to best_model.h5\n",
      "Epoch 11/500\n",
      "320000/320000 [==============================] - 3s 10us/step - loss: 0.0420 - accuracy: 0.9866 - val_loss: 0.0264 - val_accuracy: 0.9917\n",
      "\n",
      "Epoch 00011: val_accuracy improved from 0.99151 to 0.99169, saving model to best_model.h5\n",
      "Epoch 12/500\n",
      "320000/320000 [==============================] - 3s 10us/step - loss: 0.0411 - accuracy: 0.9871 - val_loss: 0.0260 - val_accuracy: 0.9916\n",
      "\n",
      "Epoch 00012: val_accuracy did not improve from 0.99169\n",
      "Epoch 13/500\n",
      "320000/320000 [==============================] - 3s 11us/step - loss: 0.0400 - accuracy: 0.9875 - val_loss: 0.0251 - val_accuracy: 0.9920\n",
      "\n",
      "Epoch 00013: val_accuracy improved from 0.99169 to 0.99205, saving model to best_model.h5\n",
      "Epoch 14/500\n",
      "320000/320000 [==============================] - 3s 9us/step - loss: 0.0394 - accuracy: 0.9877 - val_loss: 0.0239 - val_accuracy: 0.9925\n",
      "\n",
      "Epoch 00014: val_accuracy improved from 0.99205 to 0.99246, saving model to best_model.h5\n",
      "Epoch 15/500\n",
      "320000/320000 [==============================] - 3s 10us/step - loss: 0.0391 - accuracy: 0.9878 - val_loss: 0.0243 - val_accuracy: 0.9921\n",
      "\n",
      "Epoch 00015: val_accuracy did not improve from 0.99246\n",
      "Epoch 16/500\n",
      "320000/320000 [==============================] - 3s 9us/step - loss: 0.0384 - accuracy: 0.9879 - val_loss: 0.0231 - val_accuracy: 0.9928\n",
      "\n",
      "Epoch 00016: val_accuracy improved from 0.99246 to 0.99281, saving model to best_model.h5\n",
      "Epoch 17/500\n",
      "320000/320000 [==============================] - 3s 10us/step - loss: 0.0373 - accuracy: 0.9881 - val_loss: 0.0236 - val_accuracy: 0.9923\n",
      "\n",
      "Epoch 00017: val_accuracy did not improve from 0.99281\n",
      "Epoch 18/500\n",
      "320000/320000 [==============================] - 3s 10us/step - loss: 0.0375 - accuracy: 0.9882 - val_loss: 0.0226 - val_accuracy: 0.9928\n",
      "\n",
      "Epoch 00018: val_accuracy did not improve from 0.99281\n",
      "Epoch 19/500\n",
      "320000/320000 [==============================] - 3s 11us/step - loss: 0.0364 - accuracy: 0.9885 - val_loss: 0.0220 - val_accuracy: 0.9928\n",
      "\n",
      "Epoch 00019: val_accuracy did not improve from 0.99281\n",
      "Epoch 20/500\n",
      "320000/320000 [==============================] - 3s 10us/step - loss: 0.0366 - accuracy: 0.9885 - val_loss: 0.0237 - val_accuracy: 0.9922\n",
      "\n",
      "Epoch 00020: val_accuracy did not improve from 0.99281\n",
      "Epoch 21/500\n",
      "320000/320000 [==============================] - 3s 11us/step - loss: 0.0359 - accuracy: 0.9888 - val_loss: 0.0211 - val_accuracy: 0.9934\n",
      "\n",
      "Epoch 00021: val_accuracy improved from 0.99281 to 0.99338, saving model to best_model.h5\n",
      "Epoch 22/500\n",
      "320000/320000 [==============================] - 4s 12us/step - loss: 0.0365 - accuracy: 0.9886 - val_loss: 0.0211 - val_accuracy: 0.9929\n",
      "\n",
      "Epoch 00022: val_accuracy did not improve from 0.99338\n",
      "Epoch 23/500\n",
      "320000/320000 [==============================] - 3s 10us/step - loss: 0.0351 - accuracy: 0.9888 - val_loss: 0.0214 - val_accuracy: 0.9934\n",
      "\n",
      "Epoch 00023: val_accuracy improved from 0.99338 to 0.99340, saving model to best_model.h5\n",
      "Epoch 24/500\n",
      "320000/320000 [==============================] - 3s 11us/step - loss: 0.0351 - accuracy: 0.9891 - val_loss: 0.0206 - val_accuracy: 0.9938\n",
      "\n",
      "Epoch 00024: val_accuracy improved from 0.99340 to 0.99376, saving model to best_model.h5\n",
      "Epoch 25/500\n",
      "320000/320000 [==============================] - 3s 10us/step - loss: 0.0347 - accuracy: 0.9890 - val_loss: 0.0200 - val_accuracy: 0.9935\n",
      "\n",
      "Epoch 00025: val_accuracy did not improve from 0.99376\n",
      "Epoch 26/500\n",
      "320000/320000 [==============================] - 3s 10us/step - loss: 0.0356 - accuracy: 0.9886 - val_loss: 0.0202 - val_accuracy: 0.9937\n",
      "\n",
      "Epoch 00026: val_accuracy did not improve from 0.99376\n",
      "Epoch 27/500\n",
      "320000/320000 [==============================] - 3s 11us/step - loss: 0.0340 - accuracy: 0.9893 - val_loss: 0.0199 - val_accuracy: 0.9937\n",
      "\n",
      "Epoch 00027: val_accuracy did not improve from 0.99376\n",
      "Epoch 28/500\n",
      "320000/320000 [==============================] - 3s 11us/step - loss: 0.0343 - accuracy: 0.9891 - val_loss: 0.0208 - val_accuracy: 0.9933\n",
      "\n",
      "Epoch 00028: val_accuracy did not improve from 0.99376\n",
      "Epoch 29/500\n",
      "320000/320000 [==============================] - 3s 10us/step - loss: 0.0339 - accuracy: 0.9893 - val_loss: 0.0196 - val_accuracy: 0.9939\n",
      "\n",
      "Epoch 00029: val_accuracy improved from 0.99376 to 0.99388, saving model to best_model.h5\n",
      "Epoch 30/500\n",
      "320000/320000 [==============================] - 3s 10us/step - loss: 0.0344 - accuracy: 0.9892 - val_loss: 0.0197 - val_accuracy: 0.9936\n",
      "\n",
      "Epoch 00030: val_accuracy did not improve from 0.99388\n",
      "Epoch 31/500\n",
      "320000/320000 [==============================] - 3s 11us/step - loss: 0.0339 - accuracy: 0.9893 - val_loss: 0.0190 - val_accuracy: 0.9941\n",
      "\n",
      "Epoch 00031: val_accuracy improved from 0.99388 to 0.99410, saving model to best_model.h5\n",
      "Epoch 32/500\n",
      "320000/320000 [==============================] - 4s 13us/step - loss: 0.0337 - accuracy: 0.9894 - val_loss: 0.0194 - val_accuracy: 0.9938\n",
      "\n",
      "Epoch 00032: val_accuracy did not improve from 0.99410\n",
      "Epoch 33/500\n",
      "320000/320000 [==============================] - 4s 12us/step - loss: 0.0332 - accuracy: 0.9895 - val_loss: 0.0200 - val_accuracy: 0.9937\n",
      "\n",
      "Epoch 00033: val_accuracy did not improve from 0.99410\n",
      "Epoch 34/500\n",
      "320000/320000 [==============================] - 3s 11us/step - loss: 0.0332 - accuracy: 0.9895 - val_loss: 0.0192 - val_accuracy: 0.9943\n",
      "\n",
      "Epoch 00034: val_accuracy improved from 0.99410 to 0.99432, saving model to best_model.h5\n",
      "Epoch 35/500\n",
      "320000/320000 [==============================] - 3s 10us/step - loss: 0.0330 - accuracy: 0.9894 - val_loss: 0.0193 - val_accuracy: 0.9938\n",
      "\n",
      "Epoch 00035: val_accuracy did not improve from 0.99432\n",
      "Epoch 36/500\n",
      "320000/320000 [==============================] - 3s 10us/step - loss: 0.0328 - accuracy: 0.9897 - val_loss: 0.0190 - val_accuracy: 0.9937\n",
      "\n",
      "Epoch 00036: val_accuracy did not improve from 0.99432\n",
      "Epoch 00036: early stopping\n"
     ]
    },
    {
     "data": {
      "text/plain": [
       "<keras.callbacks.callbacks.History at 0x7f9083e6bef0>"
      ]
     },
     "execution_count": 60,
     "metadata": {},
     "output_type": "execute_result"
    }
   ],
   "source": [
    "model.fit(train_data_stn, train_label.values, validation_split=0.2, batch_size=128, epochs=500,callbacks=[es, mc,tensorboard]) "
   ]
  },
  {
   "cell_type": "code",
   "execution_count": null,
   "metadata": {},
   "outputs": [],
   "source": []
  },
  {
   "cell_type": "markdown",
   "metadata": {},
   "source": [
    "### Load Trained Model"
   ]
  },
  {
   "cell_type": "code",
   "execution_count": 12,
   "metadata": {},
   "outputs": [],
   "source": [
    "best_train_model= tf.keras.models.load_model('best_model.h5')\n"
   ]
  },
  {
   "cell_type": "markdown",
   "metadata": {},
   "source": [
    "## Model Evaluation"
   ]
  },
  {
   "cell_type": "code",
   "execution_count": 13,
   "metadata": {},
   "outputs": [
    {
     "name": "stdout",
     "output_type": "stream",
     "text": [
      "100000/100000 [==============================] - 3s 28us/sample - loss: 0.0188 - acc: 0.9938\n"
     ]
    }
   ],
   "source": [
    "Accuracy_on_test_data=best_train_model.evaluate(test_data_stn, test_label.values)"
   ]
  },
  {
   "cell_type": "markdown",
   "metadata": {},
   "source": [
    "## Confusion Matrix Creation"
   ]
  },
  {
   "cell_type": "code",
   "execution_count": 70,
   "metadata": {},
   "outputs": [
    {
     "data": {
      "image/png": "[encoded data removed]",
      "text/plain": [
       "<Figure size 432x432 with 1 Axes>"
      ]
     },
     "metadata": {
      "needs_background": "light"
     },
     "output_type": "display_data"
    }
   ],
   "source": [
    "#label converter\n",
    "# [1,0,0,0]=barren_land\n",
    "# [0,1,0,0]=trees\n",
    "# [0,0,1,0]=grassland\n",
    "# [0,0,0,1]=others\n",
    "\n",
    "\n",
    "##Building confusion matrix\n",
    "\n",
    "y_pred=best_train_model.predict_classes(test_data_stn)\n",
    "y_true=np.argmax(test_label.values, axis=1)\n",
    "cm=confusion_matrix(y_target=y_true, y_predicted=y_pred)\n",
    "\n",
    "plot_confusion_matrix(cm,class_names=[\"barren_land\",\"trees\",\"grassland\",\"others\"],figsize=(6,6) )\n",
    "plt.show()"
   ]
  },
  {
   "cell_type": "code",
   "execution_count": null,
   "metadata": {},
   "outputs": [],
   "source": []
  },
  {
   "cell_type": "markdown",
   "metadata": {},
   "source": [
    "### Precision and Recall calculation"
   ]
  },
  {
   "cell_type": "code",
   "execution_count": 22,
   "metadata": {},
   "outputs": [],
   "source": [
    "def precision(label, confusion_matrix):\n",
    "    col = confusion_matrix[:, label]\n",
    "    return confusion_matrix[label, label] / col.sum()\n",
    "    \n",
    "def recall(label, confusion_matrix):\n",
    "    row = confusion_matrix[label, :]\n",
    "    return confusion_matrix[label, label] / row.sum()\n",
    "\n",
    "def precision_macro_average(confusion_matrix):\n",
    "    rows, columns = confusion_matrix.shape\n",
    "    sum_of_precisions = 0\n",
    "    for label in range(rows):\n",
    "        sum_of_precisions += precision(label, confusion_matrix)\n",
    "    return sum_of_precisions / rows\n",
    "\n",
    "def recall_macro_average(confusion_matrix):\n",
    "    rows, columns = confusion_matrix.shape\n",
    "    sum_of_recalls = 0\n",
    "    for label in range(columns):\n",
    "        sum_of_recalls += recall(label, confusion_matrix)\n"
   ]
  },
  {
   "cell_type": "code",
   "execution_count": 61,
   "metadata": {},
   "outputs": [
    {
     "data": {
      "image/png": "[encoded data removed]",
      "text/plain": [
       "<Figure size 432x432 with 1 Axes>"
      ]
     },
     "metadata": {
      "needs_background": "light"
     },
     "output_type": "display_data"
    }
   ],
   "source": [
    "label_= {0:\"barren_land\",1:\"trees\",2:\"grassland\",3:\"others\"}\n",
    "dic={}\n",
    "precision_=[]\n",
    "recall_=[]\n",
    "precision_macro_average_=[]\n",
    "for label in range(4):\n",
    "    precision_.append(precision(label, cm))\n",
    "    recall_.append(recall(label, cm))\n",
    "    \n",
    "dic[\"Precision\"]= precision_\n",
    "dic[\"Recall\"]= recall_\n",
    "\n",
    "plt.figure(figsize=(6,6))\n",
    "ax=sns.heatmap(pd.DataFrame(dic, index=[\"Barren_land\",\"Trees\",\"Grassland\",\"Others\"]),annot=True,cbar=False)\n",
    "plt.yticks(rotation=0)\n",
    "ax.xaxis.tick_top() # x axis on top\n",
    "\n",
    "plt.show()"
   ]
  },
  {
   "cell_type": "code",
   "execution_count": null,
   "metadata": {},
   "outputs": [],
   "source": []
  }
 ],
 "metadata": {
  "kernelspec": {
   "display_name": "Python 3",
   "language": "python",
   "name": "python3"
  },
  "language_info": {
   "codemirror_mode": {
    "name": "ipython",
    "version": 3
   },
   "file_extension": ".py",
   "mimetype": "text/x-python",
   "name": "python",
   "nbconvert_exporter": "python",
   "pygments_lexer": "ipython3",
   "version": "3.7.3"
  }
 },
 "nbformat": 4,
 "nbformat_minor": 2
}
